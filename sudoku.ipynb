{
 "cells": [
  {
   "cell_type": "markdown",
   "metadata": {},
   "source": []
  },
  {
   "cell_type": "code",
   "execution_count": 1,
   "metadata": {},
   "outputs": [],
   "source": [
    "## IMPORTS\n",
    "import solver"
   ]
  },
  {
   "cell_type": "code",
   "execution_count": 2,
   "metadata": {},
   "outputs": [],
   "source": [
    "## METHODS TO USE\n",
    "locked_candidates = True        ## https://www.sudoku9x9.com/techniques/lockedcandidates/\n",
    "bruteforce = True               ## Bruteforce if no more digits can be found with the previous methods\n",
    "\n",
    "## NOTE : the following techniques are implemented by default:\n",
    "# Hidden-single, Naked-single, "
   ]
  },
  {
   "cell_type": "code",
   "execution_count": 3,
   "metadata": {},
   "outputs": [],
   "source": [
    "## PARAMETERS\n",
    "filename = \"./Sudokus/easy.txt\" ## replace this if you want to solve a single file or a single sudoku\n",
    "one_sudoku = False          ## If you want to solve only one sudoku\n",
    "index = 25                  ## Index of the sudoku in that case\n",
    "one_file = False            ## If you want to solve one file\n",
    "\n",
    "\n",
    "global_debug = False   ## Will show the remaining possibilities after each iteration\n",
    "locked_candidates_debug = False      \n",
    "bruteforce_debug = False"
   ]
  },
  {
   "cell_type": "code",
   "execution_count": 4,
   "metadata": {},
   "outputs": [
    {
     "ename": "TypeError",
     "evalue": "'module' object is not callable",
     "output_type": "error",
     "traceback": [
      "\u001b[1;31m---------------------------------------------------------------------------\u001b[0m",
      "\u001b[1;31mTypeError\u001b[0m                                 Traceback (most recent call last)",
      "Cell \u001b[1;32mIn[4], line 19\u001b[0m\n\u001b[0;32m      7\u001b[0m param \u001b[38;5;241m=\u001b[39m {\n\u001b[0;32m      8\u001b[0m     \u001b[38;5;124m'\u001b[39m\u001b[38;5;124mone_sudoku\u001b[39m\u001b[38;5;124m'\u001b[39m: one_sudoku,\n\u001b[0;32m      9\u001b[0m     \u001b[38;5;124m'\u001b[39m\u001b[38;5;124mindex\u001b[39m\u001b[38;5;124m'\u001b[39m: index,\n\u001b[0;32m     10\u001b[0m     \u001b[38;5;124m'\u001b[39m\u001b[38;5;124mone_file\u001b[39m\u001b[38;5;124m'\u001b[39m: one_file\n\u001b[0;32m     11\u001b[0m }\n\u001b[0;32m     13\u001b[0m debug \u001b[38;5;241m=\u001b[39m {\n\u001b[0;32m     14\u001b[0m     \u001b[38;5;124m'\u001b[39m\u001b[38;5;124mglobal\u001b[39m\u001b[38;5;124m'\u001b[39m: global_debug,\n\u001b[0;32m     15\u001b[0m     \u001b[38;5;124m'\u001b[39m\u001b[38;5;124mlocked_candidates\u001b[39m\u001b[38;5;124m'\u001b[39m: locked_candidates_debug,\n\u001b[0;32m     16\u001b[0m     \u001b[38;5;124m'\u001b[39m\u001b[38;5;124mbruteforce\u001b[39m\u001b[38;5;124m'\u001b[39m: bruteforce_debug\n\u001b[0;32m     17\u001b[0m } \n\u001b[1;32m---> 19\u001b[0m \u001b[43msolver\u001b[49m\u001b[38;5;241;43m.\u001b[39;49m\u001b[43msolver\u001b[49m\u001b[43m(\u001b[49m\u001b[43mparameters\u001b[49m\u001b[43m \u001b[49m\u001b[38;5;241;43m=\u001b[39;49m\u001b[43m \u001b[49m\u001b[43mparam\u001b[49m\u001b[43m,\u001b[49m\u001b[43m \u001b[49m\u001b[43mdebug\u001b[49m\u001b[43m \u001b[49m\u001b[38;5;241;43m=\u001b[39;49m\u001b[43m \u001b[49m\u001b[43mdebug\u001b[49m\u001b[43m,\u001b[49m\u001b[43m \u001b[49m\u001b[43mfile\u001b[49m\u001b[43m \u001b[49m\u001b[38;5;241;43m=\u001b[39;49m\u001b[43m \u001b[49m\u001b[43mfilename\u001b[49m\u001b[43m)\u001b[49m\n",
      "File \u001b[1;32mc:\\Users\\Public\\Sudoku solver\\solver.py:419\u001b[0m, in \u001b[0;36msolver\u001b[1;34m(parameters, debug, file)\u001b[0m\n\u001b[0;32m    416\u001b[0m debug[\u001b[38;5;124m'\u001b[39m\u001b[38;5;124mlocked_candidates\u001b[39m\u001b[38;5;124m'\u001b[39m] \u001b[38;5;241m=\u001b[39m \u001b[38;5;28;01mFalse\u001b[39;00m\n\u001b[0;32m    417\u001b[0m debug[\u001b[38;5;124m'\u001b[39m\u001b[38;5;124mbruteforce\u001b[39m\u001b[38;5;124m'\u001b[39m] \u001b[38;5;241m=\u001b[39m \u001b[38;5;28;01mFalse\u001b[39;00m\n\u001b[1;32m--> 419\u001b[0m \u001b[38;5;28;01mfor\u001b[39;00m k \u001b[38;5;129;01min\u001b[39;00m \u001b[43mtqdm\u001b[49m\u001b[43m(\u001b[49m\u001b[43mgrids\u001b[49m\u001b[38;5;241;43m.\u001b[39;49m\u001b[43mkeys\u001b[49m\u001b[43m(\u001b[49m\u001b[43m)\u001b[49m\u001b[43m,\u001b[49m\u001b[43m \u001b[49m\u001b[43mdesc\u001b[49m\u001b[43m \u001b[49m\u001b[38;5;241;43m=\u001b[39;49m\u001b[43m \u001b[49m\u001b[38;5;124;43m'\u001b[39;49m\u001b[38;5;124;43msolved sudokus\u001b[39;49m\u001b[38;5;124;43m'\u001b[39;49m\u001b[43m)\u001b[49m:\n\u001b[0;32m    421\u001b[0m     sudoku \u001b[38;5;241m=\u001b[39m np\u001b[38;5;241m.\u001b[39marray(grids[k],dtype\u001b[38;5;241m=\u001b[39m\u001b[38;5;124m\"\u001b[39m\u001b[38;5;124m<U9\u001b[39m\u001b[38;5;124m\"\u001b[39m)\n\u001b[0;32m    422\u001b[0m     possibilities \u001b[38;5;241m=\u001b[39m build_possibilities(sudoku)\n",
      "\u001b[1;31mTypeError\u001b[0m: 'module' object is not callable"
     ]
    }
   ],
   "source": [
    "## THE PROGRAM\n",
    "methods = {\n",
    "    'locked_candidate': locked_candidates,\n",
    "    'bruteforce': bruteforce\n",
    "}\n",
    "\n",
    "param = {\n",
    "    'one_sudoku': one_sudoku,\n",
    "    'index': index,\n",
    "    'one_file': one_file\n",
    "}\n",
    "\n",
    "debug = {\n",
    "    'global': global_debug,\n",
    "    'locked_candidates': locked_candidates_debug,\n",
    "    'bruteforce': bruteforce_debug\n",
    "} \n",
    "\n",
    "solver.solver(parameters = param, debug = debug, file = filename)"
   ]
  },
  {
   "cell_type": "code",
   "execution_count": null,
   "metadata": {},
   "outputs": [],
   "source": []
  }
 ],
 "metadata": {
  "kernelspec": {
   "display_name": "introml",
   "language": "python",
   "name": "python3"
  },
  "language_info": {
   "codemirror_mode": {
    "name": "ipython",
    "version": 3
   },
   "file_extension": ".py",
   "mimetype": "text/x-python",
   "name": "python",
   "nbconvert_exporter": "python",
   "pygments_lexer": "ipython3",
   "version": "3.8.20"
  }
 },
 "nbformat": 4,
 "nbformat_minor": 2
}
